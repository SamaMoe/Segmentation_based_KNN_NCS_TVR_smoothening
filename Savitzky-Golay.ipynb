{
 "cells": [
  {
   "cell_type": "markdown",
   "metadata": {},
   "source": [
    "Python Notebook for chromatogram denoising using Savitky-Golay filter"
   ]
  },
  {
   "cell_type": "markdown",
   "metadata": {},
   "source": [
    "Necessary libraries "
   ]
  },
  {
   "cell_type": "code",
   "execution_count": 7,
   "metadata": {},
   "outputs": [],
   "source": [
    "import numpy as np\n",
    "import pandas as pd\n",
    "from pandas import ExcelWriter\n",
    "from pandas import ExcelFile\n",
    "import matplotlib.pyplot as plt\n",
    "import warnings"
   ]
  },
  {
   "cell_type": "markdown",
   "metadata": {},
   "source": [
    "Used functions"
   ]
  },
  {
   "cell_type": "code",
   "execution_count": 18,
   "metadata": {},
   "outputs": [],
   "source": [
    "#open excel\n",
    "# extract first column as time and second as signal\n",
    "# file (string) = path to excel file\n",
    "# sheet (string) = name of excel sheet\n",
    "def open_chrom_xlsx(file, sheet):\n",
    "    if type(file) != str:\n",
    "        print(\"path must be a string\")\n",
    "    if type(sheet) != str:\n",
    "        print(\"sheet must be a string\")\n",
    "    df = pd.read_excel(file, sheet_name= sheet)\n",
    "    df.columns=(['time','abs'])\n",
    "    time = list(df['time'])\n",
    "    abs = list(df['abs'])\n",
    "    return time,abs\n",
    "\n",
    "#polynomial regression\n",
    "def polyreg(x,y,d):\n",
    "    warnings.simplefilter('ignore', np.RankWarning)\n",
    "    mymodel = np.poly1d(np.polyfit(x, y, d))\n",
    "    predict = mymodel(x)\n",
    "    return predict\n",
    "\n",
    "# Savitsky Golay smoothing\n",
    "# x (list) = time axis or number of datapoints\n",
    "# y (list) = signal\n",
    "# d (int) = degree (>0)\n",
    "# w (int) = window size (>0)\n",
    "def SGfilter(x,y,d,w):\n",
    "    if d < 1 or type(d) != int :\n",
    "        print(\"the degree parameter value must be a positive integer higher than 0\")\n",
    "    if w < 1 or w%2 == 0:\n",
    "        print(\"the window size must be an odd positive integer value\")\n",
    "    filtered_x = []\n",
    "    for i in range(len(x)-w):\n",
    "        reg = polyreg(x[i:i+w],y[i:i+w],d)\n",
    "        filtered_x.append(reg[int(((w+1)/2))])\n",
    "    return filtered_x\n",
    "\n",
    "# Durbin Watson criterion\n",
    "#expLine (list) = experimental signal\n",
    "#smtLine (list) = denoised line\n",
    "def DWcrit(expLine,smtLine):\n",
    "    if len(expLine) != len(smtLine):\n",
    "        print(\"experimental and smoothened signal must have same length\")\n",
    "    num = 0\n",
    "    denum = 0\n",
    "    for i in range(len(expLine)):\n",
    "        denum = denum + (expLine[i]-smtLine[i])**2\n",
    "    for j in range(len(expLine)-1):\n",
    "        num = num + ((expLine[j+1]-smtLine[j+1])-(expLine[j]-smtLine[j]))**2\n",
    "    DW = num/denum\n",
    "    fac = len(expLine) / (len(expLine) - 1)\n",
    "    DWfac = DW * fac\n",
    "    return DWfac\n",
    "\n",
    "# function to find optimal smoothing using Savitsky-Golay\n",
    "# c_noisy (list) = signal that needs to be optimally smoothened\n",
    "def optimal_SG(c_noisy):\n",
    "    window = np.arange(3,201,8)\n",
    "    DW_crit = []\n",
    "    for w in window:\n",
    "        p = SGfilter(np.linspace(0, 1, len(c_noisy)),c_noisy,3,w)\n",
    "        crit = (2.0 - DWcrit(c_noisy[int(w/2): -int(w/2)-1], p)) ** 2\n",
    "        DW_crit.append(crit)\n",
    "    val, idx = min((val, idx) for (idx, val) in enumerate(DW_crit))\n",
    "    smooth = SGfilter(np.linspace(0, 1, len(c_noisy)),c_noisy,2,window[idx])\n",
    "    return smooth"
   ]
  },
  {
   "cell_type": "markdown",
   "metadata": {},
   "source": [
    "Application of SG-filter on experimental chromatogram"
   ]
  },
  {
   "cell_type": "code",
   "execution_count": 17,
   "metadata": {},
   "outputs": [],
   "source": [
    "c_noisy = np.load(\"../constructed7.npy\")"
   ]
  },
  {
   "cell_type": "code",
   "execution_count": 19,
   "metadata": {},
   "outputs": [
    {
     "data": {
      "image/png": "[encoded data removed]",
      "text/plain": [
       "<Figure size 432x288 with 1 Axes>"
      ]
     },
     "metadata": {
      "needs_background": "light"
     },
     "output_type": "display_data"
    }
   ],
   "source": [
    "p = optimal_SG(c_noisy)\n",
    "\n",
    "diff = len(c_noisy) - len(p)\n",
    "plt.plot(c_noisy[int(diff/2):-int(diff/2)-1],color = \"saddlebrown\")\n",
    "plt.ylabel(\"Absorbance\")\n",
    "plt.xlabel(\"Time\")\n",
    "plt.plot(p)\n",
    "plt.legend((\"noisy chrom\",\"smoothed chrom\"))\n",
    "plt.title(\"Savitsky-Golay filter\")\n",
    "plt.tick_params(axis='x', labelsize=14)\n",
    "plt.tick_params(axis='y', labelsize=14)\n",
    "plt.show()"
   ]
  },
  {
   "cell_type": "code",
   "execution_count": null,
   "metadata": {},
   "outputs": [],
   "source": []
  }
 ],
 "metadata": {
  "kernelspec": {
   "display_name": "Python 3",
   "language": "python",
   "name": "python3"
  },
  "language_info": {
   "codemirror_mode": {
    "name": "ipython",
    "version": 3
   },
   "file_extension": ".py",
   "mimetype": "text/x-python",
   "name": "python",
   "nbconvert_exporter": "python",
   "pygments_lexer": "ipython3",
   "version": "3.7.6"
  }
 },
 "nbformat": 4,
 "nbformat_minor": 4
}
